{
 "cells": [
  {
   "cell_type": "markdown",
   "metadata": {},
   "source": [
    "# Udacity A/B Testing by Google\n",
    "\n",
    "The final project of Udacity A/B Testing by Google.\n",
    "\n",
    "[This project](https://classroom.udacity.com/courses/ud257/lessons/4126079196/concepts/42072285530923) is from Udacity free course [A/B Testing by Google](https://www.udacity.com/course/ab-testing--ud257).\n",
    "\n",
    "---\n",
    "\n",
    "Solution url: https://github.com/ZacksAmber/Udacity-A-B-Testing-by-Google"
   ]
  },
  {
   "cell_type": "code",
   "execution_count": 2,
   "metadata": {},
   "outputs": [],
   "source": [
    "import pandas as pd\n",
    "import numpy as np\n",
    "import math\n",
    "import scipy.stats as stats\n",
    "from IPython.display import display, Latex"
   ]
  },
  {
   "cell_type": "markdown",
   "metadata": {},
   "source": [
    "---\n",
    "\n",
    "## Choosing Invariant Metrics\n",
    "\n",
    "- Number of cookies\n",
    "- Number of clicks\n",
    "- Click-through-probability"
   ]
  },
  {
   "cell_type": "markdown",
   "metadata": {},
   "source": [
    "---\n",
    "\n",
    "## Calculating Standard Error\n",
    "\n",
    "$\\sigma^2 = p(1 - p)$\n",
    "\n",
    "$SE = \\sqrt{\\frac{\\sigma^2}{n}} = \\frac{\\sigma}{\\sqrt{n}}$\n",
    "\n",
    "---\n",
    "\n",
    "|Metric Name|Metric Formula|$d_{min}$|Notation|Python Notation|Reason|\n",
    "|:-:|:-:|:-:|:-:|:-:|:-:|\n",
    "|Gross conversion|$\\frac{C_{enrollment}}{C_{clicks}}$|0.01|Gross conversion|`gross_conversion`|The performance of a model|\n",
    "|Retention|$\\frac{C_{paid}}{C_{enrollment}}$|0.01|Retention|`retention`|The performance of a model|\n",
    "|Net conversion|$\\frac{C_{paid}}{C_{clicks}}$|0.0075|Net conversion|`net_conversion`|The performance of a model|"
   ]
  },
  {
   "cell_type": "code",
   "execution_count": 1,
   "metadata": {},
   "outputs": [
    {
     "ename": "NameError",
     "evalue": "name 'pd' is not defined",
     "output_type": "error",
     "traceback": [
      "\u001b[0;31m---------------------------------------------------------------------------\u001b[0m",
      "\u001b[0;31mNameError\u001b[0m                                 Traceback (most recent call last)",
      "\u001b[0;32m<ipython-input-1-d86dbe770de3>\u001b[0m in \u001b[0;36m<module>\u001b[0;34m\u001b[0m\n\u001b[0;32m----> 1\u001b[0;31m \u001b[0mbaseline\u001b[0m \u001b[0;34m=\u001b[0m \u001b[0mpd\u001b[0m\u001b[0;34m.\u001b[0m\u001b[0mread_csv\u001b[0m\u001b[0;34m(\u001b[0m\u001b[0;34m'Final Project Baseline Values - Sheet1.csv'\u001b[0m\u001b[0;34m)\u001b[0m\u001b[0;34m\u001b[0m\u001b[0;34m\u001b[0m\u001b[0m\n\u001b[0m\u001b[1;32m      2\u001b[0m \u001b[0;34m\u001b[0m\u001b[0m\n\u001b[1;32m      3\u001b[0m \u001b[0mbaseline\u001b[0m\u001b[0;34m\u001b[0m\u001b[0;34m\u001b[0m\u001b[0m\n",
      "\u001b[0;31mNameError\u001b[0m: name 'pd' is not defined"
     ]
    }
   ],
   "source": [
    "baseline = pd.read_csv('Final Project Baseline Values - Sheet1.csv')\n",
    "\n",
    "baseline"
   ]
  },
  {
   "cell_type": "code",
   "execution_count": 2,
   "metadata": {},
   "outputs": [],
   "source": [
    "# Define baseline metrics\n",
    "cookies = 40000\n",
    "clicks = 3200\n",
    "# enrollment is counted by user-id\n",
    "enrollment = 660\n",
    "# Enrollment probability\n",
    "p_enrollment = enrollment / cookies\n",
    "# Click-through-probability\n",
    "CTP = clicks / cookies\n",
    "gross_conversion = enrollment / clicks\n",
    "retention = 0.53\n",
    "net_conversion = gross_conversion * retention\n",
    "\n",
    "# Dictonary of Gross conversion\n",
    "GC = {}\n",
    "GC['p'] = gross_conversion\n",
    "GC['d_min'] = 0.01\n",
    "GC['n'] = clicks\n",
    "\n",
    "# Dictonary of Retention\n",
    "R = {}\n",
    "R['p'] = retention\n",
    "R['d_min'] = 0.01\n",
    "R['n'] = enrollment\n",
    "\n",
    "# Dictonary of Net Conversion\n",
    "NC = {}\n",
    "NC['p'] = net_conversion\n",
    "NC['d_min'] = 0.0075\n",
    "NC['n'] = clicks"
   ]
  },
  {
   "cell_type": "code",
   "execution_count": 3,
   "metadata": {},
   "outputs": [
    {
     "name": "stdout",
     "output_type": "stream",
     "text": [
      "{'p': 0.20625, 'd_min': 0.01, 'n': 3200, 'SE': 0.0072}\n",
      "{'p': 0.53, 'd_min': 0.01, 'n': 660, 'SE': 0.0194}\n",
      "{'p': 0.10931249999999999, 'd_min': 0.0075, 'n': 3200, 'SE': 0.0055}\n"
     ]
    }
   ],
   "source": [
    "# display(Latex(r\"$\\sigma^2 = p(1 - p) \\Rightarrow \\sigma = \\sqrt{p(1 - p)}$\"))\n",
    "\n",
    "def get_se(p, n):\n",
    "    SE = np.sqrt(p * (1-p) / n)\n",
    "    return round(SE, 4)\n",
    "\n",
    "GC['SE'] = get_se(GC['p'], GC['n'])\n",
    "R['SE'] = get_se(R['p'], R['n'])\n",
    "NC['SE'] = get_se(NC['p'], NC['n'])\n",
    "\n",
    "print(GC)\n",
    "print(R)\n",
    "print(NC)"
   ]
  },
  {
   "cell_type": "markdown",
   "metadata": {},
   "source": [
    "## Sizing\n",
    "\n",
    "Q: Choosing Number of Samples given Power\n",
    "\n",
    "Using the analytic estimates of variance, how many pageviews total (across both groups) would you need to collect to adequately power the experiment? Use an alpha of 0.05 and a beta of 0.2. Make sure you have enough power for each metric.\n",
    "\n",
    "---\n",
    "\n",
    "### Familywise Error Rate (FWER)\n",
    "\n",
    "**Less conservative multiple comparison methods**\n",
    "\n",
    "The [Bonferroni correction](http://en.wikipedia.org/wiki/Bonferroni_correction) is a very simple method, but there are many other methods, including the [closed testing procedure](http://en.wikipedia.org/wiki/Closed_testing_procedure), the [Boole-Bonferroni bound](http://en.wikipedia.org/wiki/Bonferroni_bound), and the [Holm-Bonferroni method](http://en.wikipedia.org/wiki/Holm%E2%80%93Bonferroni_method). [This article](http://en.wikipedia.org/wiki/Multiple_comparisons_problem) on multiple comparisons contains more information, and this article contains more information about the false discovery rate (FDR), and methods for controlling that instead of the familywise error rate (FWER).\n",
    "\n",
    "**Tracking multiple metrics**\n",
    "\n",
    "Problem: Probability of any false positive increases as you increase number of metrics\n",
    "\n",
    "Solution: Use higher confidence level for each metric\n",
    "\n",
    "Method 1: Assume independence\n",
    "- $\\alpha_{overall} = 1 - (1 - \\alpha_{individual})^n$\n",
    "\n",
    "Method 2: Bonferroni correction\n",
    "- simple\n",
    "- no assumptions\n",
    "- too conservative - guaranteed to give $\\alpha_{overall}$ at least as small as specified\n",
    "- $\\alpha_{individual} = \\frac{\\alpha_{overall}}{n}$\n",
    "\n",
    "for example:\n",
    "\n",
    "$\\alpha_{overall} = 0.05, n=3 \\Rightarrow \\alpha_{individual} = 0.0167$"
   ]
  },
  {
   "cell_type": "code",
   "execution_count": 4,
   "metadata": {},
   "outputs": [
    {
     "name": "stdout",
     "output_type": "stream",
     "text": [
      "0.8994685321132673\n",
      "2.3939797998185104\n"
     ]
    }
   ],
   "source": [
    "# Z-Score\n",
    "\n",
    "# Signifiance Level\n",
    "alpha = 0.05\n",
    "# n is the number of eveluation metrics\n",
    "n = 3\n",
    "\n",
    "# individual a of method 1\n",
    "z1 = stats.norm.ppf(1 - (alpha**(1/n) / 2))\n",
    "# z1 = stats.norm.ppf(1 - alpha / 2)\n",
    "\n",
    "# individual a of method 2, Bonferroni correction\n",
    "z2 = stats.norm.ppf(1 - (alpha/n) / 2)\n",
    "\n",
    "print(z1)\n",
    "print(z2)"
   ]
  },
  {
   "cell_type": "code",
   "execution_count": 5,
   "metadata": {},
   "outputs": [
    {
     "name": "stdout",
     "output_type": "stream",
     "text": [
      "[0.0065 0.0174 0.0049]\n",
      "[0.0172 0.0464 0.0132]\n"
     ]
    }
   ],
   "source": [
    "# Margin of Error\n",
    "\n",
    "# Set NumPy printionoptions\n",
    "np.set_printoptions(suppress=True)\n",
    "# Calculate margin of error\n",
    "m1 = z1 * np.array([GC['SE'], R['SE'], NC['SE']])\n",
    "m2 = z2 * np.array([GC['SE'], R['SE'], NC['SE']])\n",
    "\n",
    "print(np.around(m1, 4))\n",
    "print(np.around(m2, 4))"
   ]
  },
  {
   "cell_type": "code",
   "execution_count": 6,
   "metadata": {},
   "outputs": [
    {
     "name": "stdout",
     "output_type": "stream",
     "text": [
      "[ True False  True]\n",
      "[False False False]\n"
     ]
    }
   ],
   "source": [
    "d_min = np.array([0.01, 0.01, 0.0075])\n",
    "\n",
    "print(m1 < d_min)\n",
    "print(m2 < d_min)"
   ]
  },
  {
   "cell_type": "markdown",
   "metadata": {},
   "source": [
    "With respect to FWER control, the Bonferroni correction can be conservative if there are a large number of tests and/or the test statistics are positively correlated.\n",
    "\n",
    "Thus, I decided not to use Bonferroni correction.\n",
    "\n",
    "---\n",
    "\n",
    "### Margin of Error\n",
    "\n",
    "$\\displaystyle MOE_{\\gamma} = Z_{\\gamma} \\times SE = d_{min}$\n",
    "\n",
    "---\n",
    "\n",
    "### Sample Size per Variation\n",
    "\n",
    "$\\displaystyle  \\hat p_{pool}= \\frac{X_{cont}+X_{exp}}{N_{cont}+ N_{exp}}$\n",
    "\n",
    "$\\displaystyle SE_{pool} = \\sqrt{\\hat p_{pool} \\times (1-\\hat p_{pool}) \\times (\\frac{1}{N_{cont}}+\\frac{1}{N_{exp}})}$\n",
    "\n",
    "For calculating the minimize sample size of control and experiment, $N_{cont} = N_{exp}= N$, then we have:\n",
    "$\\displaystyle \\hat p_{pool} = \\frac{X_{cont}+X_{exp}}{N + N} = \\frac{X_{cont}}{2N} + \\frac{X_{exp}}{2N} = \\frac{p_{cont}}{2} + \\frac{p_{exp}}{2} = \\frac{p_{cont} + p_{exp}}{2}$\n",
    "\n",
    "Therefore:\n",
    "\n",
    "$\\displaystyle SE_{pool} = \\sqrt{\\hat p_{pool} \\times (1-\\hat p_{pool}) \\times (\\frac{1}{N_{cont}}+\\frac{1}{N_{exp}})} = \\sqrt{\\hat p_{pool} \\times (1-\\hat p_{pool}) \\times (\\frac{1}{N} + \\frac{1}{N})} = \\sqrt{\\hat p_{pool} \\times (1-\\hat p_{pool}) \\times \\frac{2}{N}}$\n",
    "\n",
    "In this case, $d_{min}$ is equal to Margin of Error.\n",
    "\n",
    "$d_{min} = p_{exp} - p_{cont}$\n",
    "\n",
    "$\\displaystyle MOE_{\\gamma} = Z_{\\gamma} \\times SE = d_{min}$\n",
    "\n",
    "$\\displaystyle MOE_{\\gamma} = Z_{\\gamma} \\cdot SE_{pool} \\Rightarrow d_{min} = Z_{\\gamma} \\cdot \\sqrt{\\hat p_{pool} \\times (1-\\hat p_{pool}) \\times \\frac{2}{N}} \\Rightarrow d_{min}^2 = Z_{\\gamma} \\cdot \\hat p_{pool} \\times (1-\\hat p_{pool}) \\times \\frac{2}{N} \\Rightarrow n = \\frac{Z_{\\gamma}^2 \\cdot \\hat p_{pool} \\cdot (1 - \\hat p_{pool}) \\cdot 2}{d^2}$\n",
    "\n",
    "$\\displaystyle N = (z_{1-\\alpha/2} + z_{1-\\beta})^2 \\left( \\frac{\\sigma}{\\delta} \\right)^2 = \\frac{Z_{\\gamma}^2 \\cdot \\hat p_{pool} \\cdot (1 - \\hat p_{pool}) \\cdot 2}{d^2} \\Rightarrow \\mbox{for two-tailed test}$\n",
    "\n",
    "$\\displaystyle N = (z_{1-\\alpha} + z_{1-\\beta})^2 \\left( \\frac{\\sigma}{\\delta} \\right)^2 = \\frac{Z_{\\gamma}^2 \\cdot \\hat p_{pool} \\cdot (1 - \\hat p_{pool}) \\cdot 2}{d^2} \\Rightarrow \\mbox{for one-tailed test}$\n",
    "\n",
    "---\n",
    "\n",
    "### Calculating Number of Pageviews\n",
    "\n",
    "The above formula is used by R power.prop.test and Evan's Awesome A/B Tools.\n",
    "\n",
    "You can also visit [Evan's Awesome A/B Tools](https://www.evanmiller.org/ab-testing/sample-size.html) to calculate the power. \n",
    "\n",
    "However, there is a error between Evan's Awesome A/B Tools and the formula. Using the proper values as you need."
   ]
  },
  {
   "cell_type": "code",
   "execution_count": 7,
   "metadata": {},
   "outputs": [],
   "source": [
    "def get_z_score(sig):\n",
    "    \"\"\"\n",
    "    Return z-score\n",
    "    \"\"\"\n",
    "    return stats.norm.ppf(sig)\n",
    "\n",
    "def sample_size(p1=0.10, p2=0.102, alpha=0.05, beta=0.2, alternative=\"two-sided\", formula=False):\n",
    "    \"\"\"\n",
    "    Return sample size per variation\n",
    "\n",
    "    p1: float\n",
    "        probability in control group\n",
    "        Baseline conversion rate: bcr = p1\n",
    "            An estimate of the metric being analyzed before making any changes\n",
    "    p2: float\n",
    "        probability in treatment group\n",
    "        Minimum Detectable Effect: mde = p2 - p1 = d\n",
    "            The Minimum Detectable Effect is the smallest effect that will be detected (1-β)% of the time.\n",
    "    alpha: float\n",
    "        The risk of rejecting a true hypothesis.\n",
    "    beta: float\n",
    "        The risk of accepting a false null hypothesis when a particular value of the alternative hypothesis is true.\n",
    "        Power: 1 - β, also called sensitivity\n",
    "        Sensitivity — the probability that the null hypothesis is not rejected when it should be\n",
    "\n",
    "    Reference:\n",
    "        https://itl.nist.gov/div898/handbook/prc/section2/prc222.htm\n",
    "        https://jeffshow.com/caculate-abtest-required-sample-size.html\n",
    "        https://www.evanmiller.org/ab-testing/sample-size.html\n",
    "    \"\"\"\n",
    "    if alternative == \"two-sided\":\n",
    "        z1 = get_z_score(1 - alpha/2)\n",
    "        if formula is True:\n",
    "            display(Latex(r\"$H_0: P_A - P_B = 0$\"))\n",
    "            display(Latex(r\"$H_1: P_A - P_B = d$\"))\n",
    "            display(Latex(r\"$N = (z_{1-\\alpha/2} + z_{1-\\beta})^2 \\left( \\frac{\\sigma}{\\delta} \\right)^2$\"))\n",
    "            # display(Latex(r\"$n=\\frac{(Z_{1-\\alpha/2}\\sqrt{2p_1 (1-p_1)}+Z_{1-\\beta}\\sqrt{p_1(1-p_1)+p_2(1-p_2)})^2}{d^2}$\"))\n",
    "    elif alternative == \"one-sided\":\n",
    "        z1 = get_z_score(1 - alpha)\n",
    "        if formula is True:\n",
    "            display(Latex(r\"$H_0: P_A - P_B = 0$\"))\n",
    "            display(Latex(r\"$H_1: P_A - P_B = d$\"))\n",
    "            display(Latex(r\"$N = (z_{1-\\alpha} + z_{1-\\beta})^2 \\left( \\frac{\\sigma}{\\delta} \\right)^2$\"))\n",
    "            # display(Latex(r\"$n=\\frac{(Z_{1-\\alpha}\\sqrt{2p_1 (1-p_1)}+Z_{1-\\beta}\\sqrt{p_1(1-p_1)+p_2(1-p_2)})^2}{d^2}$\"))\n",
    "    else:\n",
    "        raise ValueError(\"alternative must be one of ['two-sided', 'one-sided']\")\n",
    "    z2 = get_z_score(1 - beta)\n",
    "    d = p2 - p1\n",
    "    z = z1 + z2\n",
    "    p_pool = (p1 + p2) / 2\n",
    "    variance = p_pool * (1 - p_pool)\n",
    "    n = z**2 * variance * 2 / d**2\n",
    "\n",
    "    return int(np.round(n, 0))"
   ]
  },
  {
   "cell_type": "markdown",
   "metadata": {},
   "source": [
    "Here is the data of three evaluation metrics.\n",
    "\n",
    "|Metric Name|Metric Formula|$d_{min}$|Notation|Python Notation|Reason|\n",
    "|:-:|:-:|:-:|:-:|:-:|:-:|\n",
    "|Gross conversion|$\\frac{C_{enrollment}}{C_{clicks}}$|0.01|Gross conversion|`gross_conversion`|The performance of a model|\n",
    "|Retention|$\\frac{C_{paid}}{C_{enrollment}}$|0.01|Retention|`retention`|The performance of a model|\n",
    "|Net conversion|$\\frac{C_{paid}}{C_{clicks}}$|0.0075|Net conversion|`net_conversion`|The performance of a model|"
   ]
  },
  {
   "cell_type": "code",
   "execution_count": 8,
   "metadata": {},
   "outputs": [
    {
     "name": "stdout",
     "output_type": "stream",
     "text": [
      "{'p': 0.20625, 'd_min': 0.01, 'n': 3200, 'SE': 0.0072}\n",
      "{'p': 0.53, 'd_min': 0.01, 'n': 660, 'SE': 0.0194}\n",
      "{'p': 0.10931249999999999, 'd_min': 0.0075, 'n': 3200, 'SE': 0.0055}\n"
     ]
    }
   ],
   "source": [
    "# Gross Conversion\n",
    "print(GC)\n",
    "\n",
    "# Retention\n",
    "print(R)\n",
    "\n",
    "# Net Conversion\n",
    "print(NC)"
   ]
  },
  {
   "cell_type": "code",
   "execution_count": 9,
   "metadata": {},
   "outputs": [
    {
     "name": "stdout",
     "output_type": "stream",
     "text": [
      "{'p': 0.20625, 'd_min': 0.01, 'n': 3200, 'SE': 0.0072, 'Sample Size': 26156}\n",
      "{'p': 0.53, 'd_min': 0.01, 'n': 660, 'SE': 0.0194, 'Sample Size': 39052}\n",
      "{'p': 0.10931249999999999, 'd_min': 0.0075, 'n': 3200, 'SE': 0.0055, 'Sample Size': 27985}\n"
     ]
    }
   ],
   "source": [
    "# Sample Size from function sample_size()\n",
    "GC['Sample Size'] = sample_size(GC['p'], GC['p']+GC['d_min'])\n",
    "R['Sample Size'] = sample_size(R['p'], R['p']+R['d_min'])\n",
    "NC['Sample Size'] = sample_size(NC['p'], NC['p']+NC['d_min'])\n",
    "\n",
    "print(GC)\n",
    "print(R)\n",
    "print(NC)"
   ]
  },
  {
   "cell_type": "code",
   "execution_count": 10,
   "metadata": {},
   "outputs": [
    {
     "name": "stdout",
     "output_type": "stream",
     "text": [
      "{'p': 0.20625, 'd_min': 0.01, 'n': 3200, 'SE': 0.0072, 'Sample Size': 25835}\n",
      "{'p': 0.53, 'd_min': 0.01, 'n': 660, 'SE': 0.0194, 'Sample Size': 39115}\n",
      "{'p': 0.10931249999999999, 'd_min': 0.0075, 'n': 3200, 'SE': 0.0055, 'Sample Size': 27413}\n"
     ]
    }
   ],
   "source": [
    "# Sample Size from Evan's Awesome A/B Tools\n",
    "GC['Sample Size'] = 25835\n",
    "R['Sample Size'] = 39115\n",
    "NC['Sample Size'] = 27413\n",
    "\n",
    "print(GC)\n",
    "print(R)\n",
    "print(NC)"
   ]
  },
  {
   "cell_type": "markdown",
   "metadata": {},
   "source": [
    "Before calcuating the minimum pageviews(unique cookies) for each metric, we need to know that the above minimum sample size is `clicks` or `enrollment`(counted by user-id). Therefore, we need to divide them by probability.\n",
    "- CTP = clicks / cookies\n",
    "- p_enrollment = enrollment / cookies\n",
    "\n",
    "For `Gross conversion`, the formula is $\\frac{C_{enrollment}}{C_{clicks}}$. The unit of diversion is `clicks`. So the number of minimum pageviews is $\\displaystyle clicks \\div CTP \\cdot 2 \\Rightarrow clicks \\div \\frac{clicks}{cookies} \\cdot 2$"
   ]
  },
  {
   "cell_type": "code",
   "execution_count": 19,
   "metadata": {},
   "outputs": [
    {
     "data": {
      "text/plain": [
       "645875"
      ]
     },
     "execution_count": 19,
     "metadata": {},
     "output_type": "execute_result"
    }
   ],
   "source": [
    "GC['pageviews'] = int(round(GC['Sample Size'] / CTP * 2, 0))\n",
    "GC['pageviews']"
   ]
  },
  {
   "cell_type": "markdown",
   "metadata": {},
   "source": [
    "For `Retention`, the formula is $\\frac{C_{paid}}{C_{enrollment}}$. The unit of diversion is `enrollment`(user-id). So the number of minimum pageviews is $\\displaystyle enrollment \\div p\\_enrollment \\cdot 2 \\Rightarrow enrollment \\div \\frac{enrollment}{cookies} \\cdot 2$"
   ]
  },
  {
   "cell_type": "code",
   "execution_count": 20,
   "metadata": {},
   "outputs": [
    {
     "data": {
      "text/plain": [
       "4741212"
      ]
     },
     "execution_count": 20,
     "metadata": {},
     "output_type": "execute_result"
    }
   ],
   "source": [
    "R['pageviews'] = int(round(R['Sample Size'] / p_enrollment * 2))\n",
    "R['pageviews'] "
   ]
  },
  {
   "cell_type": "markdown",
   "metadata": {},
   "source": [
    "For `Net conversion`, the formula is $\\frac{C_{paid}}{C_{clicks}}$. The unit of diversion is `clicks`. So the number of minimum pageviews is $\\displaystyle clicks \\div CTP \\cdot 2 \\Rightarrow clicks \\div \\frac{clicks}{cookies} \\cdot 2$"
   ]
  },
  {
   "cell_type": "code",
   "execution_count": 21,
   "metadata": {},
   "outputs": [
    {
     "data": {
      "text/plain": [
       "685325"
      ]
     },
     "execution_count": 21,
     "metadata": {},
     "output_type": "execute_result"
    }
   ],
   "source": [
    "NC['pageviews'] = int(round(NC['Sample Size'] / CTP * 2))\n",
    "NC['pageviews']"
   ]
  },
  {
   "cell_type": "code",
   "execution_count": 22,
   "metadata": {},
   "outputs": [
    {
     "data": {
      "text/plain": [
       "4741212"
      ]
     },
     "execution_count": 22,
     "metadata": {},
     "output_type": "execute_result"
    }
   ],
   "source": [
    "max([GC['pageviews'], R['pageviews'], NC['pageviews']])"
   ]
  },
  {
   "cell_type": "markdown",
   "metadata": {},
   "source": [
    "The maximum pageviews for two gruops from `Gross conversion`, `Retention`, and `Net conversion` is 4741212.\n",
    "\n",
    "---\n",
    "\n",
    "### Choosing Duration and Exposure\n",
    "\n",
    "Q: What percentage of Udacity's traffic would you divert to this experiment (assuming there were no other experiments you wanted to run simultaneously)? Is the change risky enough that you wouldn't want to run on all traffic?\n",
    "\n",
    "Q: Given the percentage you chose, how long would the experiment take to run, using the analytic estimates of variance? If the answer is longer than a few weeks, then this is unreasonably long, and you should reconsider an earlier decision.\n",
    "\n",
    "- **Udacity currently have 40,000 pageviews (unique cookies) to view course overview page per day.**\n",
    "- For calculating the minimum duration, we divert 100% daily cookies for this experiment. You can also modify the fraction."
   ]
  },
  {
   "cell_type": "code",
   "execution_count": 50,
   "metadata": {},
   "outputs": [],
   "source": [
    "# Define cookies fraction\n",
    "cookies_fraction = 1"
   ]
  },
  {
   "cell_type": "code",
   "execution_count": 51,
   "metadata": {},
   "outputs": [],
   "source": [
    "# Duration of Gross conversion\n",
    "GC['duration'] = math.ceil(GC['pageviews'] / (cookies * cookies_fraction))\n",
    "\n",
    "# Duration of Retention\n",
    "R['duration'] = math.ceil(R['pageviews'] / (cookies * cookies_fraction))\n",
    "\n",
    "# Duration of Net conversion\n",
    "NC['duration'] = math.ceil(NC['pageviews'] / (cookies * cookies_fraction))"
   ]
  },
  {
   "cell_type": "code",
   "execution_count": 55,
   "metadata": {},
   "outputs": [
    {
     "data": {
      "text/html": [
       "<div>\n",
       "<style scoped>\n",
       "    .dataframe tbody tr th:only-of-type {\n",
       "        vertical-align: middle;\n",
       "    }\n",
       "\n",
       "    .dataframe tbody tr th {\n",
       "        vertical-align: top;\n",
       "    }\n",
       "\n",
       "    .dataframe thead th {\n",
       "        text-align: right;\n",
       "    }\n",
       "</style>\n",
       "<table border=\"1\" class=\"dataframe\">\n",
       "  <thead>\n",
       "    <tr style=\"text-align: left;\">\n",
       "      <th></th>\n",
       "      <th>Metric Name</th>\n",
       "      <th>Minimum clicks/enrollment</th>\n",
       "      <th>Minimum pageviews</th>\n",
       "      <th>Fraction of experiment traffic</th>\n",
       "      <th>Duration</th>\n",
       "    </tr>\n",
       "  </thead>\n",
       "  <tbody>\n",
       "    <tr>\n",
       "      <th>0</th>\n",
       "      <td>Gross conversion</td>\n",
       "      <td>25835</td>\n",
       "      <td>645875</td>\n",
       "      <td>1</td>\n",
       "      <td>17</td>\n",
       "    </tr>\n",
       "    <tr>\n",
       "      <th>1</th>\n",
       "      <td>Retention</td>\n",
       "      <td>39115</td>\n",
       "      <td>4741212</td>\n",
       "      <td>1</td>\n",
       "      <td>119</td>\n",
       "    </tr>\n",
       "    <tr>\n",
       "      <th>2</th>\n",
       "      <td>Net conversion</td>\n",
       "      <td>27413</td>\n",
       "      <td>685325</td>\n",
       "      <td>1</td>\n",
       "      <td>18</td>\n",
       "    </tr>\n",
       "  </tbody>\n",
       "</table>\n",
       "</div>"
      ],
      "text/plain": [
       "  Metric Name        Minimum clicks/enrollment  Minimum pageviews  \\\n",
       "0  Gross conversion  25835                       645875             \n",
       "1         Retention  39115                      4741212             \n",
       "2    Net conversion  27413                       685325             \n",
       "\n",
       "   Fraction of experiment traffic  Duration  \n",
       "0  1                                17       \n",
       "1  1                               119       \n",
       "2  1                                18       "
      ]
     },
     "execution_count": 55,
     "metadata": {},
     "output_type": "execute_result"
    }
   ],
   "source": [
    "duration_table = pd.DataFrame({\n",
    "    'Metric Name': ['Gross conversion', 'Retention', 'Net conversion'],\n",
    "    'Minimum clicks/enrollment': [GC['Sample Size'], R['Sample Size'], NC['Sample Size']], \n",
    "    'Minimum pageviews': [GC['pageviews'], R['pageviews'], NC['pageviews']],\n",
    "    'Fraction of experiment traffic': [cookies_fraction] * 3,\n",
    "    'Duration': [GC['duration'], R['duration'], NC['duration']]\n",
    "})\n",
    "\n",
    "duration_table"
   ]
  },
  {
   "cell_type": "markdown",
   "metadata": {},
   "source": [
    "A: According to above table, when we assign 100% daily traffic to this experiment, we have the minimum duration. We only have 40,000 pageviews (unique cookies) per day. Therefore, we need to abandon `Retention` as an qualified evaulation metric due to the too long-running experiment.\n",
    "\n",
    "The minimum duration for `Gross conversion` and `Net conversion` are 17 days and 18 days. For ensuring the effectiveness of the experiment, we need run the experiment at least 18 days."
   ]
  },
  {
   "cell_type": "markdown",
   "metadata": {},
   "source": [
    "\n",
    "---\n",
    "\n",
    "## Sanity Checks\n",
    "\n",
    "For each metric that you choose as an invariant metric, compyte a 95% confidence interval for the value you expect to observe. Enter the upper and lower bounds, and the observed value, all to 4 decimal places.\n",
    "\n",
    "Invariant Metrics:\n",
    "- cookies(pageviews)\n",
    "- clicks\n",
    "- CTP(Clicks-through-probability, whichs is clicks / cookies)\n",
    "\n",
    "The experiment data can be found in [this spreadsheet](https://docs.google.com/spreadsheets/d/1Mu5u9GrybDdska-ljPXyBjTpdZIUev_6i7t4LRDfXM8/edit#gid=0); use this information to answer the analysis questions. Note that control data and experiment data are on separate tabs of the spreadsheet.\n",
    "\n",
    "If we have $p$, use $p$ instead of $\\hat p$.\n",
    "\n",
    "- $\\displaystyle H_0: p = p_0$\n",
    "- $\\displaystyle H_1: p \\neq p_0$\n",
    "- $\\displaystyle \\sigma^2 = \\hat p (1 - \\hat p)$\n",
    "- $\\displaystyle \\displaystyle SE = \\sqrt{\\frac{\\sigma^2}{n}}$\n",
    "- $\\displaystyle Z_{\\gamma} = Z_{1 - \\alpha}$\n",
    "- $\\displaystyle Z_{\\gamma} = Z_{1 - \\frac{\\alpha}{2}}$\n",
    "- $\\displaystyle MOE_{\\gamma} = Z_{\\gamma} \\cdot SE$\n",
    "- $\\displaystyle CI = \\hat p \\pm MOE_{\\gamma}$"
   ]
  },
  {
   "cell_type": "code",
   "execution_count": 67,
   "metadata": {},
   "outputs": [
    {
     "data": {
      "text/html": [
       "<div>\n",
       "<style scoped>\n",
       "    .dataframe tbody tr th:only-of-type {\n",
       "        vertical-align: middle;\n",
       "    }\n",
       "\n",
       "    .dataframe tbody tr th {\n",
       "        vertical-align: top;\n",
       "    }\n",
       "\n",
       "    .dataframe thead th {\n",
       "        text-align: right;\n",
       "    }\n",
       "</style>\n",
       "<table border=\"1\" class=\"dataframe\">\n",
       "  <thead>\n",
       "    <tr style=\"text-align: left;\">\n",
       "      <th></th>\n",
       "      <th>Date</th>\n",
       "      <th>Pageviews</th>\n",
       "      <th>Clicks</th>\n",
       "      <th>Enrollments</th>\n",
       "      <th>Payments</th>\n",
       "    </tr>\n",
       "  </thead>\n",
       "  <tbody>\n",
       "    <tr>\n",
       "      <th>0</th>\n",
       "      <td>Sat, Oct 11</td>\n",
       "      <td>7723</td>\n",
       "      <td>687</td>\n",
       "      <td>134.0</td>\n",
       "      <td>70.0</td>\n",
       "    </tr>\n",
       "    <tr>\n",
       "      <th>1</th>\n",
       "      <td>Sun, Oct 12</td>\n",
       "      <td>9102</td>\n",
       "      <td>779</td>\n",
       "      <td>147.0</td>\n",
       "      <td>70.0</td>\n",
       "    </tr>\n",
       "    <tr>\n",
       "      <th>2</th>\n",
       "      <td>Mon, Oct 13</td>\n",
       "      <td>10511</td>\n",
       "      <td>909</td>\n",
       "      <td>167.0</td>\n",
       "      <td>95.0</td>\n",
       "    </tr>\n",
       "    <tr>\n",
       "      <th>3</th>\n",
       "      <td>Tue, Oct 14</td>\n",
       "      <td>9871</td>\n",
       "      <td>836</td>\n",
       "      <td>156.0</td>\n",
       "      <td>105.0</td>\n",
       "    </tr>\n",
       "    <tr>\n",
       "      <th>4</th>\n",
       "      <td>Wed, Oct 15</td>\n",
       "      <td>10014</td>\n",
       "      <td>837</td>\n",
       "      <td>163.0</td>\n",
       "      <td>64.0</td>\n",
       "    </tr>\n",
       "    <tr>\n",
       "      <th>...</th>\n",
       "      <td>...</td>\n",
       "      <td>...</td>\n",
       "      <td>...</td>\n",
       "      <td>...</td>\n",
       "      <td>...</td>\n",
       "    </tr>\n",
       "    <tr>\n",
       "      <th>32</th>\n",
       "      <td>Wed, Nov 12</td>\n",
       "      <td>10134</td>\n",
       "      <td>801</td>\n",
       "      <td>NaN</td>\n",
       "      <td>NaN</td>\n",
       "    </tr>\n",
       "    <tr>\n",
       "      <th>33</th>\n",
       "      <td>Thu, Nov 13</td>\n",
       "      <td>9717</td>\n",
       "      <td>814</td>\n",
       "      <td>NaN</td>\n",
       "      <td>NaN</td>\n",
       "    </tr>\n",
       "    <tr>\n",
       "      <th>34</th>\n",
       "      <td>Fri, Nov 14</td>\n",
       "      <td>9192</td>\n",
       "      <td>735</td>\n",
       "      <td>NaN</td>\n",
       "      <td>NaN</td>\n",
       "    </tr>\n",
       "    <tr>\n",
       "      <th>35</th>\n",
       "      <td>Sat, Nov 15</td>\n",
       "      <td>8630</td>\n",
       "      <td>743</td>\n",
       "      <td>NaN</td>\n",
       "      <td>NaN</td>\n",
       "    </tr>\n",
       "    <tr>\n",
       "      <th>36</th>\n",
       "      <td>Sun, Nov 16</td>\n",
       "      <td>8970</td>\n",
       "      <td>722</td>\n",
       "      <td>NaN</td>\n",
       "      <td>NaN</td>\n",
       "    </tr>\n",
       "  </tbody>\n",
       "</table>\n",
       "<p>37 rows × 5 columns</p>\n",
       "</div>"
      ],
      "text/plain": [
       "   Date          Pageviews  Clicks  Enrollments  Payments\n",
       "0   Sat, Oct 11   7723      687     134.0         70.0   \n",
       "1   Sun, Oct 12   9102      779     147.0         70.0   \n",
       "2   Mon, Oct 13  10511      909     167.0         95.0   \n",
       "3   Tue, Oct 14   9871      836     156.0        105.0   \n",
       "4   Wed, Oct 15  10014      837     163.0         64.0   \n",
       "..          ...        ...     ...          ...       ...\n",
       "32  Wed, Nov 12  10134      801       NaN          NaN   \n",
       "33  Thu, Nov 13   9717      814       NaN          NaN   \n",
       "34  Fri, Nov 14   9192      735       NaN          NaN   \n",
       "35  Sat, Nov 15   8630      743       NaN          NaN   \n",
       "36  Sun, Nov 16   8970      722       NaN          NaN   \n",
       "\n",
       "[37 rows x 5 columns]"
      ]
     },
     "execution_count": 67,
     "metadata": {},
     "output_type": "execute_result"
    }
   ],
   "source": [
    "# Import Dataset of control\n",
    "control = pd.read_csv('Final Project Results - Control.csv')\n",
    "\n",
    "control"
   ]
  },
  {
   "cell_type": "code",
   "execution_count": 68,
   "metadata": {},
   "outputs": [
    {
     "data": {
      "text/html": [
       "<div>\n",
       "<style scoped>\n",
       "    .dataframe tbody tr th:only-of-type {\n",
       "        vertical-align: middle;\n",
       "    }\n",
       "\n",
       "    .dataframe tbody tr th {\n",
       "        vertical-align: top;\n",
       "    }\n",
       "\n",
       "    .dataframe thead th {\n",
       "        text-align: right;\n",
       "    }\n",
       "</style>\n",
       "<table border=\"1\" class=\"dataframe\">\n",
       "  <thead>\n",
       "    <tr style=\"text-align: left;\">\n",
       "      <th></th>\n",
       "      <th>Date</th>\n",
       "      <th>Pageviews</th>\n",
       "      <th>Clicks</th>\n",
       "      <th>Enrollments</th>\n",
       "      <th>Payments</th>\n",
       "    </tr>\n",
       "  </thead>\n",
       "  <tbody>\n",
       "    <tr>\n",
       "      <th>0</th>\n",
       "      <td>Sat, Oct 11</td>\n",
       "      <td>7716</td>\n",
       "      <td>686</td>\n",
       "      <td>105.0</td>\n",
       "      <td>34.0</td>\n",
       "    </tr>\n",
       "    <tr>\n",
       "      <th>1</th>\n",
       "      <td>Sun, Oct 12</td>\n",
       "      <td>9288</td>\n",
       "      <td>785</td>\n",
       "      <td>116.0</td>\n",
       "      <td>91.0</td>\n",
       "    </tr>\n",
       "    <tr>\n",
       "      <th>2</th>\n",
       "      <td>Mon, Oct 13</td>\n",
       "      <td>10480</td>\n",
       "      <td>884</td>\n",
       "      <td>145.0</td>\n",
       "      <td>79.0</td>\n",
       "    </tr>\n",
       "    <tr>\n",
       "      <th>3</th>\n",
       "      <td>Tue, Oct 14</td>\n",
       "      <td>9867</td>\n",
       "      <td>827</td>\n",
       "      <td>138.0</td>\n",
       "      <td>92.0</td>\n",
       "    </tr>\n",
       "    <tr>\n",
       "      <th>4</th>\n",
       "      <td>Wed, Oct 15</td>\n",
       "      <td>9793</td>\n",
       "      <td>832</td>\n",
       "      <td>140.0</td>\n",
       "      <td>94.0</td>\n",
       "    </tr>\n",
       "    <tr>\n",
       "      <th>...</th>\n",
       "      <td>...</td>\n",
       "      <td>...</td>\n",
       "      <td>...</td>\n",
       "      <td>...</td>\n",
       "      <td>...</td>\n",
       "    </tr>\n",
       "    <tr>\n",
       "      <th>32</th>\n",
       "      <td>Wed, Nov 12</td>\n",
       "      <td>10042</td>\n",
       "      <td>802</td>\n",
       "      <td>NaN</td>\n",
       "      <td>NaN</td>\n",
       "    </tr>\n",
       "    <tr>\n",
       "      <th>33</th>\n",
       "      <td>Thu, Nov 13</td>\n",
       "      <td>9721</td>\n",
       "      <td>829</td>\n",
       "      <td>NaN</td>\n",
       "      <td>NaN</td>\n",
       "    </tr>\n",
       "    <tr>\n",
       "      <th>34</th>\n",
       "      <td>Fri, Nov 14</td>\n",
       "      <td>9304</td>\n",
       "      <td>770</td>\n",
       "      <td>NaN</td>\n",
       "      <td>NaN</td>\n",
       "    </tr>\n",
       "    <tr>\n",
       "      <th>35</th>\n",
       "      <td>Sat, Nov 15</td>\n",
       "      <td>8668</td>\n",
       "      <td>724</td>\n",
       "      <td>NaN</td>\n",
       "      <td>NaN</td>\n",
       "    </tr>\n",
       "    <tr>\n",
       "      <th>36</th>\n",
       "      <td>Sun, Nov 16</td>\n",
       "      <td>8988</td>\n",
       "      <td>710</td>\n",
       "      <td>NaN</td>\n",
       "      <td>NaN</td>\n",
       "    </tr>\n",
       "  </tbody>\n",
       "</table>\n",
       "<p>37 rows × 5 columns</p>\n",
       "</div>"
      ],
      "text/plain": [
       "   Date          Pageviews  Clicks  Enrollments  Payments\n",
       "0   Sat, Oct 11   7716      686     105.0        34.0    \n",
       "1   Sun, Oct 12   9288      785     116.0        91.0    \n",
       "2   Mon, Oct 13  10480      884     145.0        79.0    \n",
       "3   Tue, Oct 14   9867      827     138.0        92.0    \n",
       "4   Wed, Oct 15   9793      832     140.0        94.0    \n",
       "..          ...        ...     ...          ...       ...\n",
       "32  Wed, Nov 12  10042      802       NaN         NaN    \n",
       "33  Thu, Nov 13   9721      829       NaN         NaN    \n",
       "34  Fri, Nov 14   9304      770       NaN         NaN    \n",
       "35  Sat, Nov 15   8668      724       NaN         NaN    \n",
       "36  Sun, Nov 16   8988      710       NaN         NaN    \n",
       "\n",
       "[37 rows x 5 columns]"
      ]
     },
     "execution_count": 68,
     "metadata": {},
     "output_type": "execute_result"
    }
   ],
   "source": [
    "# Import Dataset of experiment\n",
    "experiment = pd.read_csv('Final Project Results - Experiment.csv')\n",
    "\n",
    "experiment"
   ]
  },
  {
   "cell_type": "code",
   "execution_count": 331,
   "metadata": {},
   "outputs": [
    {
     "data": {
      "text/html": [
       "<div>\n",
       "<style scoped>\n",
       "    .dataframe tbody tr th:only-of-type {\n",
       "        vertical-align: middle;\n",
       "    }\n",
       "\n",
       "    .dataframe tbody tr th {\n",
       "        vertical-align: top;\n",
       "    }\n",
       "\n",
       "    .dataframe thead th {\n",
       "        text-align: right;\n",
       "    }\n",
       "</style>\n",
       "<table border=\"1\" class=\"dataframe\">\n",
       "  <thead>\n",
       "    <tr style=\"text-align: left;\">\n",
       "      <th></th>\n",
       "      <th>A</th>\n",
       "      <th>B</th>\n",
       "    </tr>\n",
       "  </thead>\n",
       "  <tbody>\n",
       "    <tr>\n",
       "      <th>cookies</th>\n",
       "      <td>345543</td>\n",
       "      <td>344660</td>\n",
       "    </tr>\n",
       "    <tr>\n",
       "      <th>clicks</th>\n",
       "      <td>28378</td>\n",
       "      <td>28325</td>\n",
       "    </tr>\n",
       "    <tr>\n",
       "      <th>enrollments</th>\n",
       "      <td>3785</td>\n",
       "      <td>3423</td>\n",
       "    </tr>\n",
       "    <tr>\n",
       "      <th>payments</th>\n",
       "      <td>2033</td>\n",
       "      <td>1945</td>\n",
       "    </tr>\n",
       "  </tbody>\n",
       "</table>\n",
       "</div>"
      ],
      "text/plain": [
       "             A       B     \n",
       "cookies      345543  344660\n",
       "clicks        28378   28325\n",
       "enrollments    3785    3423\n",
       "payments       2033    1945"
      ]
     },
     "execution_count": 331,
     "metadata": {},
     "output_type": "execute_result"
    }
   ],
   "source": [
    "# Summarize control, skip 0, which is Date\n",
    "control_sum = list(control.iloc[:, 1:].sum())\n",
    "# Summarize experiment, skip 0, which is Date\n",
    "experiment_sum = list(experiment.iloc[:, 1:].sum())\n",
    "\n",
    "# Define DataFrame santiy_checks\n",
    "sanity_checks = pd.DataFrame({\n",
    "    'A': control_sum,\n",
    "    'B': experiment_sum,\n",
    "}, index=['cookies', 'clicks', 'enrollments', 'payments'])\n",
    "\n",
    "# Format the DataFrame\n",
    "sanity_checks = sanity_checks.astype({'A': 'int32', 'B': 'int32'})\n",
    "\n",
    "sanity_checks"
   ]
  },
  {
   "cell_type": "code",
   "execution_count": 356,
   "metadata": {},
   "outputs": [
    {
     "data": {
      "text/html": [
       "<div>\n",
       "<style scoped>\n",
       "    .dataframe tbody tr th:only-of-type {\n",
       "        vertical-align: middle;\n",
       "    }\n",
       "\n",
       "    .dataframe tbody tr th {\n",
       "        vertical-align: top;\n",
       "    }\n",
       "\n",
       "    .dataframe thead th {\n",
       "        text-align: right;\n",
       "    }\n",
       "</style>\n",
       "<table border=\"1\" class=\"dataframe\">\n",
       "  <thead>\n",
       "    <tr style=\"text-align: left;\">\n",
       "      <th></th>\n",
       "      <th>A</th>\n",
       "      <th>B</th>\n",
       "      <th>Total</th>\n",
       "      <th>p</th>\n",
       "      <th>Var</th>\n",
       "      <th>SE</th>\n",
       "      <th>alpha</th>\n",
       "      <th>MOE</th>\n",
       "      <th>CI lower bound</th>\n",
       "      <th>CI upper bound</th>\n",
       "      <th>Observed</th>\n",
       "      <th>Pass</th>\n",
       "      <th>d</th>\n",
       "    </tr>\n",
       "  </thead>\n",
       "  <tbody>\n",
       "    <tr>\n",
       "      <th>cookies</th>\n",
       "      <td>345543</td>\n",
       "      <td>344660</td>\n",
       "      <td>690203</td>\n",
       "      <td>0.5</td>\n",
       "      <td>0.25</td>\n",
       "      <td>0.0006</td>\n",
       "      <td>0.05</td>\n",
       "      <td>0.0012</td>\n",
       "      <td>0.4988</td>\n",
       "      <td>0.5012</td>\n",
       "      <td>0.5006</td>\n",
       "      <td>True</td>\n",
       "      <td>0.0013</td>\n",
       "    </tr>\n",
       "    <tr>\n",
       "      <th>clicks</th>\n",
       "      <td>28378</td>\n",
       "      <td>28325</td>\n",
       "      <td>56703</td>\n",
       "      <td>0.5</td>\n",
       "      <td>0.25</td>\n",
       "      <td>0.0021</td>\n",
       "      <td>0.05</td>\n",
       "      <td>0.0041</td>\n",
       "      <td>0.4959</td>\n",
       "      <td>0.5041</td>\n",
       "      <td>0.5005</td>\n",
       "      <td>True</td>\n",
       "      <td>0.0009</td>\n",
       "    </tr>\n",
       "    <tr>\n",
       "      <th>enrollments</th>\n",
       "      <td>3785</td>\n",
       "      <td>3423</td>\n",
       "      <td>7208</td>\n",
       "      <td>0.5</td>\n",
       "      <td>0.25</td>\n",
       "      <td>0.0059</td>\n",
       "      <td>0.05</td>\n",
       "      <td>0.0115</td>\n",
       "      <td>0.4885</td>\n",
       "      <td>0.5115</td>\n",
       "      <td>0.5251</td>\n",
       "      <td>False</td>\n",
       "      <td>0.0502</td>\n",
       "    </tr>\n",
       "    <tr>\n",
       "      <th>payments</th>\n",
       "      <td>2033</td>\n",
       "      <td>1945</td>\n",
       "      <td>3978</td>\n",
       "      <td>0.5</td>\n",
       "      <td>0.25</td>\n",
       "      <td>0.0079</td>\n",
       "      <td>0.05</td>\n",
       "      <td>0.0155</td>\n",
       "      <td>0.4845</td>\n",
       "      <td>0.5155</td>\n",
       "      <td>0.5111</td>\n",
       "      <td>True</td>\n",
       "      <td>0.0221</td>\n",
       "    </tr>\n",
       "  </tbody>\n",
       "</table>\n",
       "</div>"
      ],
      "text/plain": [
       "             A       B       Total   p    Var   SE      alpha  MOE     \\\n",
       "cookies      345543  344660  690203  0.5  0.25  0.0006  0.05   0.0012   \n",
       "clicks        28378   28325   56703  0.5  0.25  0.0021  0.05   0.0041   \n",
       "enrollments    3785    3423    7208  0.5  0.25  0.0059  0.05   0.0115   \n",
       "payments       2033    1945    3978  0.5  0.25  0.0079  0.05   0.0155   \n",
       "\n",
       "             CI lower bound  CI upper bound  Observed  Pass   d       \n",
       "cookies      0.4988          0.5012          0.5006     True  0.0013  \n",
       "clicks       0.4959          0.5041          0.5005     True  0.0009  \n",
       "enrollments  0.4885          0.5115          0.5251    False  0.0502  \n",
       "payments     0.4845          0.5155          0.5111     True  0.0221  "
      ]
     },
     "execution_count": 356,
     "metadata": {},
     "output_type": "execute_result"
    }
   ],
   "source": [
    "sanity_checks['Total'] = sanity_checks.A + sanity_checks.B\n",
    "# For cookies and clicks, P = 0.5 for evenly spilting the traffic to control and experiment;\n",
    "# For enrollments and payments, P = 0.5, the null hypothesis is that there is no difference between control and experiment.\n",
    "sanity_checks['p'] = 0.5\n",
    "# Variance\n",
    "sanity_checks['Var'] = sanity_checks['p'] * (1 - sanity_checks['p'])\n",
    "# Standard Error\n",
    "sanity_checks['SE'] = np.sqrt(sanity_checks['Var'] / sanity_checks['Total'])\n",
    "# Significance Level\n",
    "sanity_checks['alpha'] = 0.05\n",
    "# Margin of Error\n",
    "sanity_checks['MOE'] = stats.norm.ppf(1 - sanity_checks['alpha']/2) * sanity_checks['SE']\n",
    "# CI lower bound\n",
    "sanity_checks['CI lower bound'] = sanity_checks['p'] - sanity_checks['MOE']\n",
    "# CI upper bound\n",
    "sanity_checks['CI upper bound'] = sanity_checks['p'] + sanity_checks['MOE']\n",
    "# Observed\n",
    "sanity_checks['Observed'] = sanity_checks['A'] / sanity_checks['Total']\n",
    "# Pass or not\n",
    "sanity_checks['Pass'] = sanity_checks.apply(lambda x: (x['CI lower bound'] <= x['Observed']) and (x['Observed'] <= x['CI upper bound']),axis=1)\n",
    "# Difference\n",
    "sanity_checks['d'] = abs((sanity_checks['B'] - sanity_checks['A']) / sanity_checks['Total'])\n",
    "\n",
    "sanity_checks.round(4)"
   ]
  },
  {
   "cell_type": "code",
   "execution_count": 578,
   "metadata": {},
   "outputs": [],
   "source": [
    "# Define function sanity_check to calculate margin of error, confidence interval\n",
    "def one_sample_prop(N, X, alpha=0.05, p=0, alternative=\"two-sided\", round=4, formula=False):\n",
    "    \"\"\"\n",
    "    One-Sample Proportion for Sanity Check.\n",
    "\n",
    "    Return\n",
    "        - Margin of Error\n",
    "        - Left edge of Confidence Interval\n",
    "        - Right edge of Confidence Interval\n",
    "        - Observed probability\n",
    "        - Statistical Significance (If CI contains 0)\n",
    "        - Practical Significance (If p_hat in CI)\n",
    "\n",
    "    N: int\n",
    "        Control data and Experiment data\n",
    "    X: int\n",
    "        Control data\n",
    "    alpha: float\n",
    "        Default: 0.05\n",
    "        Significance Level: between 0 to 1\n",
    "    p: float\n",
    "        Population probability. Leave it blank if it is unknown.\n",
    "    alternative: str\n",
    "        Default: \"two-sided\"\n",
    "        One of \"two-sided\" or \"one-sided\"\n",
    "    round: int\n",
    "        Default: 4\n",
    "        Round a number to a given precision in decimal digits.\n",
    "    formula: boolean\n",
    "        Default: False\n",
    "        Display formula.\n",
    "\n",
    "    Reference:\n",
    "        [Binomial proportion confidence interval](https://en.wikipedia.org/wiki/Binomial_proportion_confidence_interval)\n",
    "        [Hypothesis Testing for One Sample Proportion](https://online.stat.psu.edu/stat800/lesson/5/5.2)\n",
    "\n",
    "    >>> binomial_CI(N=1000, X=450, p=0.5, alternative=\"two-sided\", round=4)\n",
    "    \"\"\"\n",
    "\n",
    "    # Validate significance level - alpha\n",
    "    if (0 <= alpha <= 1) is False:\n",
    "        raise ValueError(f'significance level (alpha) must be in the range of [0, 1]')\n",
    "\n",
    "    if alternative == \"two-sided\":\n",
    "        z1 = get_z_score(1 - alpha/2)\n",
    "        if formula is True:\n",
    "            display(Latex(r\"$\\displaystyle H_0: p = p_0$\"))\n",
    "            display(Latex(r\"$\\displaystyle H_1: p \\neq p_0$\"))\n",
    "            display(Latex(r\"$\\displaystyle \\sigma^2 = \\hat p (1 - \\hat p)$\"))\n",
    "            display(Latex(r\"$\\displaystyle \\displaystyle SE = \\sqrt{\\frac{\\sigma^2}{n}}$\"))\n",
    "            display(Latex(r\"$\\displaystyle Z_{\\gamma} = Z_{1 - \\frac{\\alpha}{2}}$\"))\n",
    "            display(Latex(r\"$\\displaystyle MOE_{\\gamma} = Z_{\\gamma} \\cdot SE$\"))\n",
    "            display(Latex(r\"$\\displaystyle CI = \\hat p \\pm MOE_{\\gamma}$\"))\n",
    "    elif alternative == \"one-sided\":\n",
    "        z1 = get_z_score(1 - alpha)\n",
    "        if formula is True:\n",
    "            display(Latex(r\"$\\displaystyle H_0: p = p_0$\"))\n",
    "            display(Latex(r\"$\\displaystyle H_1: p \\neq p_0$\"))\n",
    "            display(Latex(r\"$\\displaystyle \\sigma^2 = \\hat p (1 - \\hat p)$\"))\n",
    "            display(Latex(r\"$\\displaystyle \\displaystyle SE = \\sqrt{\\frac{\\sigma^2}{n}}$\"))\n",
    "            display(Latex(r\"$\\displaystyle Z_{\\gamma} = Z_{1 - \\alpha}$\"))\n",
    "            display(Latex(r\"$\\displaystyle MOE_{\\gamma} = Z_{\\gamma} \\cdot SE$\"))\n",
    "            display(Latex(r\"$\\displaystyle CI = \\hat p \\pm MOE_{\\gamma}$\"))\n",
    "    else:\n",
    "        raise ValueError(\"alternative must be one of ['two-sided', 'one-sided']\")\n",
    "    \n",
    "    # Estimated probability of success, which is the sample statistic, the midpoint of Confidence Interval\n",
    "    p_hat = X / N\n",
    "\n",
    "    # If population probability is unknown, the program will use estimated probability for calculation.\n",
    "    if p == 0:\n",
    "        p = p_hat\n",
    "\n",
    "    # When not proper for normal distribution assumption\n",
    "    if N * p <= 5 or N * (1 - p) <= 5:\n",
    "        return False\n",
    "\n",
    "    # Standard Error of Two-tailed test\n",
    "    SE = math.sqrt(p * (1 - p) / N)\n",
    "\n",
    "    # Margin of Error\n",
    "    m = z * SE\n",
    "\n",
    "    # Left & Right boundary of Confidence Interval\n",
    "    CI_left, CI_right = p - m, p + m\n",
    "\n",
    "    # Statistical Significance\n",
    "    if CI_left < 0 < CI_right:\n",
    "        statistical_significance = False\n",
    "    else:\n",
    "        statistical_significance = True\n",
    "\n",
    "    # Pratical Significance\n",
    "    if CI_left <= p_hat <= CI_right:\n",
    "        pratical_significance = False\n",
    "    else:\n",
    "        pratical_significance = True\n",
    "\n",
    "    return np.round(m, round), np.round(CI_left, round), np.round(CI_right, round), np.round(p_hat, round), statistical_significance, pratical_significance"
   ]
  },
  {
   "cell_type": "code",
   "execution_count": 606,
   "metadata": {},
   "outputs": [],
   "source": [
    "df_sanity_checks = pd.DataFrame(\n",
    "    columns=['Margin of Error', 'CI lower bound', 'CI upper bound', 'Observed', 'Statistical Significance', 'Practical Significance'], \n",
    "    index=['cookies', 'clicks', 'CTP']\n",
    "    )"
   ]
  },
  {
   "cell_type": "code",
   "execution_count": 607,
   "metadata": {},
   "outputs": [],
   "source": [
    "# Hypothesis Testing for One-Sample Proportions (Sanity Check)\n",
    "# cookies\n",
    "# p is 0.5\n",
    "result = one_sample_prop(N=sanity_checks.loc['cookies', 'Total'], X=sanity_checks.loc['cookies', 'A'], p=0.5, round=4, formula=False)\n",
    "\n",
    "df_sanity_checks.loc['cookies', :] = result"
   ]
  },
  {
   "cell_type": "code",
   "execution_count": 608,
   "metadata": {},
   "outputs": [],
   "source": [
    "# Hypothesis Testing for One-Sample Proportions (Sanity Check)\n",
    "# clicks\n",
    "# p is 0.5\n",
    "result = one_sample_prop(N=sanity_checks.loc['clicks', 'Total'], X=sanity_checks.loc['clicks', 'A'], p=0.5, round=4)\n",
    "\n",
    "df_sanity_checks.loc['clicks', :] = result"
   ]
  },
  {
   "cell_type": "code",
   "execution_count": 609,
   "metadata": {},
   "outputs": [],
   "source": [
    "# Hypothesis Testing for One-Sample Proportions (Sanity Check)\n",
    "# CTP\n",
    "# p is unknown\n",
    "result = one_sample_prop(N=sanity_checks.loc['cookies', 'A'], X=sanity_checks.loc['clicks', 'A'], round=4)\n",
    "\n",
    "df_sanity_checks.loc['CTP', :] = result"
   ]
  },
  {
   "cell_type": "code",
   "execution_count": 610,
   "metadata": {},
   "outputs": [
    {
     "data": {
      "text/html": [
       "<div>\n",
       "<style scoped>\n",
       "    .dataframe tbody tr th:only-of-type {\n",
       "        vertical-align: middle;\n",
       "    }\n",
       "\n",
       "    .dataframe tbody tr th {\n",
       "        vertical-align: top;\n",
       "    }\n",
       "\n",
       "    .dataframe thead th {\n",
       "        text-align: right;\n",
       "    }\n",
       "</style>\n",
       "<table border=\"1\" class=\"dataframe\">\n",
       "  <thead>\n",
       "    <tr style=\"text-align: left;\">\n",
       "      <th></th>\n",
       "      <th>Margin of Error</th>\n",
       "      <th>CI lower bound</th>\n",
       "      <th>CI upper bound</th>\n",
       "      <th>Observed</th>\n",
       "      <th>Statistical Significance</th>\n",
       "      <th>Practical Significance</th>\n",
       "    </tr>\n",
       "  </thead>\n",
       "  <tbody>\n",
       "    <tr>\n",
       "      <th>cookies</th>\n",
       "      <td>0.0012</td>\n",
       "      <td>0.4988</td>\n",
       "      <td>0.5012</td>\n",
       "      <td>0.5006</td>\n",
       "      <td>True</td>\n",
       "      <td>False</td>\n",
       "    </tr>\n",
       "    <tr>\n",
       "      <th>clicks</th>\n",
       "      <td>0.0041</td>\n",
       "      <td>0.4959</td>\n",
       "      <td>0.5041</td>\n",
       "      <td>0.5005</td>\n",
       "      <td>True</td>\n",
       "      <td>False</td>\n",
       "    </tr>\n",
       "    <tr>\n",
       "      <th>CTP</th>\n",
       "      <td>0.0009</td>\n",
       "      <td>0.0812</td>\n",
       "      <td>0.083</td>\n",
       "      <td>0.0821</td>\n",
       "      <td>True</td>\n",
       "      <td>False</td>\n",
       "    </tr>\n",
       "  </tbody>\n",
       "</table>\n",
       "</div>"
      ],
      "text/plain": [
       "        Margin of Error CI lower bound CI upper bound Observed  \\\n",
       "cookies  0.0012          0.4988         0.5012         0.5006    \n",
       "clicks   0.0041          0.4959         0.5041         0.5005    \n",
       "CTP      0.0009          0.0812          0.083         0.0821    \n",
       "\n",
       "        Statistical Significance Practical Significance  \n",
       "cookies  True                     False                  \n",
       "clicks   True                     False                  \n",
       "CTP      True                     False                  "
      ]
     },
     "execution_count": 610,
     "metadata": {},
     "output_type": "execute_result"
    }
   ],
   "source": [
    "df_sanity_checks"
   ]
  },
  {
   "cell_type": "markdown",
   "metadata": {},
   "source": [
    "---\n",
    "\n",
    "## Effect Size Tests\n",
    "\n",
    "For each of your evaluation metrics, comput a confidence interval around the difference.\n",
    "\n",
    "Evaluation Metrics:\n",
    "- Gross conversion\n",
    "- Net conversion\n",
    "\n",
    "The experiment data can be found in [this spreadsheet](https://docs.google.com/spreadsheets/d/1Mu5u9GrybDdska-ljPXyBjTpdZIUev_6i7t4LRDfXM8/edit#gid=0); use this information to answer the analysis questions. Note that control data and experiment data are on separate tabs of the spreadsheet.\n",
    "\n",
    "> [Hypothesis Testing for Two-Sample Proportions](https://online.stat.psu.edu/stat800/lesson/5/5.5)\n",
    "\n",
    "- $\\displaystyle H_0: P_A - P_B = 0$\n",
    "- $\\displaystyle H_1: P_A - P_B = d$\n",
    "- $\\displaystyle \\hat d = p_2 - p_1$\n",
    "- $\\displaystyle \\hat p = \\frac{x_1 + x_2}{n_1 + n_2}$\n",
    "- $\\displaystyle \\sigma^2 = \\hat p (1 - \\hat p)$\n",
    "- $\\displaystyle SE = \\sqrt{\\sigma^2 \\cdot (\\frac{1}{n_1} + \\frac{1}{n_2})}$\n",
    "- $\\displaystyle Z_{\\gamma} = Z_{1 - \\frac{\\alpha}{2}}$\n",
    "- $\\displaystyle Z_{\\gamma} = Z_{1 - \\alpha}$\n",
    "- $\\displaystyle MOE_{\\gamma} = Z_{\\gamma} \\times SE$\n",
    "- $\\displaystyle CI = \\hat d \\pm MOE_{\\gamma}$\n",
    "\n",
    "|Metric Name|Metric Formula|$d_{min}$|Notation|Python Notation|Reason|\n",
    "|:-:|:-:|:-:|:-:|:-:|:-:|\n",
    "|Gross conversion|$\\frac{C_{enrollment}}{C_{clicks}}$|0.01|Gross conversion|`gross_conversion`|The performance of a model|\n",
    "|Retention|$\\frac{C_{paid}}{C_{enrollment}}$|0.01|Retention|`retention`|The performance of a model|\n",
    "|Net conversion|$\\frac{C_{paid}}{C_{clicks}}$|0.0075|Net conversion|`net_conversion`|The performance of a model|"
   ]
  },
  {
   "cell_type": "code",
   "execution_count": 418,
   "metadata": {},
   "outputs": [],
   "source": [
    "# Summarize control, skip 0, which is Date. And filter not null rows.\n",
    "control_notnull_sum = list(control[control['Enrollments'].notnull() & control['Payments'].notnull()].iloc[:, 1:].sum())\n",
    "# Summarize experiment, skip 0, which is Date. And filter not null rows.\n",
    "experiment_notnull_sum = list(experiment[experiment['Enrollments'].notnull() & experiment['Payments'].notnull()].iloc[:, 1:].sum())"
   ]
  },
  {
   "cell_type": "code",
   "execution_count": 499,
   "metadata": {},
   "outputs": [
    {
     "data": {
      "text/html": [
       "<div>\n",
       "<style scoped>\n",
       "    .dataframe tbody tr th:only-of-type {\n",
       "        vertical-align: middle;\n",
       "    }\n",
       "\n",
       "    .dataframe tbody tr th {\n",
       "        vertical-align: top;\n",
       "    }\n",
       "\n",
       "    .dataframe thead th {\n",
       "        text-align: right;\n",
       "    }\n",
       "</style>\n",
       "<table border=\"1\" class=\"dataframe\">\n",
       "  <thead>\n",
       "    <tr style=\"text-align: left;\">\n",
       "      <th></th>\n",
       "      <th>A</th>\n",
       "      <th>B</th>\n",
       "    </tr>\n",
       "  </thead>\n",
       "  <tbody>\n",
       "    <tr>\n",
       "      <th>cookies</th>\n",
       "      <td>212163</td>\n",
       "      <td>211362</td>\n",
       "    </tr>\n",
       "    <tr>\n",
       "      <th>clicks</th>\n",
       "      <td>17293</td>\n",
       "      <td>17260</td>\n",
       "    </tr>\n",
       "    <tr>\n",
       "      <th>enrollments</th>\n",
       "      <td>3785</td>\n",
       "      <td>3423</td>\n",
       "    </tr>\n",
       "    <tr>\n",
       "      <th>payments</th>\n",
       "      <td>2033</td>\n",
       "      <td>1945</td>\n",
       "    </tr>\n",
       "  </tbody>\n",
       "</table>\n",
       "</div>"
      ],
      "text/plain": [
       "             A       B     \n",
       "cookies      212163  211362\n",
       "clicks        17293   17260\n",
       "enrollments    3785    3423\n",
       "payments       2033    1945"
      ]
     },
     "execution_count": 499,
     "metadata": {},
     "output_type": "execute_result"
    }
   ],
   "source": [
    "# Define DataFrame santiy_checks\n",
    "analysis_test = pd.DataFrame({\n",
    "    'A': control_notnull_sum,\n",
    "    'B': experiment_notnull_sum,\n",
    "}, index=['cookies', 'clicks', 'enrollments', 'payments'])\n",
    "\n",
    "# Format the DataFrame\n",
    "analysis_test = analysis_test.astype({'A': 'int32', 'B': 'int32'})\n",
    "\n",
    "analysis_test"
   ]
  },
  {
   "cell_type": "code",
   "execution_count": 500,
   "metadata": {},
   "outputs": [
    {
     "data": {
      "text/html": [
       "<div>\n",
       "<style scoped>\n",
       "    .dataframe tbody tr th:only-of-type {\n",
       "        vertical-align: middle;\n",
       "    }\n",
       "\n",
       "    .dataframe tbody tr th {\n",
       "        vertical-align: top;\n",
       "    }\n",
       "\n",
       "    .dataframe thead th {\n",
       "        text-align: right;\n",
       "    }\n",
       "</style>\n",
       "<table border=\"1\" class=\"dataframe\">\n",
       "  <thead>\n",
       "    <tr style=\"text-align: left;\">\n",
       "      <th></th>\n",
       "      <th>A</th>\n",
       "      <th>B</th>\n",
       "      <th>d_min</th>\n",
       "      <th>Total</th>\n",
       "    </tr>\n",
       "  </thead>\n",
       "  <tbody>\n",
       "    <tr>\n",
       "      <th>cookies</th>\n",
       "      <td>212163.0000</td>\n",
       "      <td>211362.0000</td>\n",
       "      <td>3000.0000</td>\n",
       "      <td>423525.0000</td>\n",
       "    </tr>\n",
       "    <tr>\n",
       "      <th>clicks</th>\n",
       "      <td>17293.0000</td>\n",
       "      <td>17260.0000</td>\n",
       "      <td>240.0000</td>\n",
       "      <td>34553.0000</td>\n",
       "    </tr>\n",
       "    <tr>\n",
       "      <th>enrollments</th>\n",
       "      <td>3785.0000</td>\n",
       "      <td>3423.0000</td>\n",
       "      <td>NaN</td>\n",
       "      <td>7208.0000</td>\n",
       "    </tr>\n",
       "    <tr>\n",
       "      <th>payments</th>\n",
       "      <td>2033.0000</td>\n",
       "      <td>1945.0000</td>\n",
       "      <td>NaN</td>\n",
       "      <td>3978.0000</td>\n",
       "    </tr>\n",
       "    <tr>\n",
       "      <th>Gross conversion</th>\n",
       "      <td>0.0178</td>\n",
       "      <td>0.0162</td>\n",
       "      <td>0.0100</td>\n",
       "      <td>0.0340</td>\n",
       "    </tr>\n",
       "    <tr>\n",
       "      <th>Retention</th>\n",
       "      <td>0.5371</td>\n",
       "      <td>0.5682</td>\n",
       "      <td>0.0100</td>\n",
       "      <td>1.1053</td>\n",
       "    </tr>\n",
       "    <tr>\n",
       "      <th>Net conversion</th>\n",
       "      <td>0.0096</td>\n",
       "      <td>0.0092</td>\n",
       "      <td>0.0075</td>\n",
       "      <td>0.0188</td>\n",
       "    </tr>\n",
       "  </tbody>\n",
       "</table>\n",
       "</div>"
      ],
      "text/plain": [
       "                  A            B            d_min      Total      \n",
       "cookies           212163.0000  211362.0000  3000.0000  423525.0000\n",
       "clicks             17293.0000   17260.0000   240.0000   34553.0000\n",
       "enrollments         3785.0000    3423.0000        NaN    7208.0000\n",
       "payments            2033.0000    1945.0000        NaN    3978.0000\n",
       "Gross conversion       0.0178       0.0162     0.0100       0.0340\n",
       "Retention              0.5371       0.5682     0.0100       1.1053\n",
       "Net conversion         0.0096       0.0092     0.0075       0.0188"
      ]
     },
     "execution_count": 500,
     "metadata": {},
     "output_type": "execute_result"
    }
   ],
   "source": [
    "analysis_test.loc['Gross conversion', :] = analysis_test.loc['enrollments', :] / analysis_test.loc['cookies', :]\n",
    "analysis_test.loc['Retention', :] = analysis_test.loc['payments', :] / analysis_test.loc['enrollments', :]\n",
    "analysis_test.loc['Net conversion', :] = analysis_test.loc['payments', :] / analysis_test.loc['cookies', :]\n",
    "analysis_test['d_min'] = [3000, 240, None, None, 0.01, 0.01, 0.0075]\n",
    "analysis_test['Total'] = analysis_test['A'] + analysis_test['B']\n",
    "\n",
    "analysis_test.round(4)"
   ]
  },
  {
   "cell_type": "code",
   "execution_count": 593,
   "metadata": {},
   "outputs": [],
   "source": [
    "def two_sample_prop(n1, n2, x1, x2, d_min, alpha=0.05, alternative=\"two-sided\", round=4, formula=False):\n",
    "    \"\"\"\n",
    "    Two-Sample Proportion for analysis.\n",
    "\n",
    "    Return\n",
    "        - Margin of Error\n",
    "        - Left edge of Confidence Interval\n",
    "        - Right edge of Confidence Interval\n",
    "        - Observed probability\n",
    "        - Statistical Significance (If CI contains 0)\n",
    "        - Practical Significance (If CI > d_min or CI < -d_min)\n",
    "\n",
    "    n1: int\n",
    "        Sample size of group A\n",
    "    n2: int\n",
    "        Sample size of group B\n",
    "    x1: int\n",
    "        Successful count of group A\n",
    "    x2: int\n",
    "        Successful count of group B\n",
    "    d_min: float\n",
    "        Minimum Effect Difference\n",
    "    alpha: float\n",
    "        Default: 0.05\n",
    "        Significance Level: between 0 to 1\n",
    "    alternative: str\n",
    "        Default: \"two-sided\"\n",
    "        One of \"two-sided\" or \"one-sided\"\n",
    "    round: int\n",
    "        Default: 4\n",
    "        Round a number to a given precision in decimal digits.\n",
    "    formula: boolean\n",
    "        Default: False\n",
    "        Display formula.\n",
    "\n",
    "    Reference\n",
    "        [Hypothesis Testing for Two-Sample Proportions](https://online.stat.psu.edu/stat800/lesson/5/5.5)\n",
    "\n",
    "    >>> analysis_test()\n",
    "    \"\"\"\n",
    "\n",
    "    if alternative == \"two-sided\":\n",
    "        z1 = get_z_score(1 - alpha/2)\n",
    "        if formula is True:\n",
    "            display(Latex(r\"$\\displaystyle H_0: P_A - P_B = 0$\"))\n",
    "            display(Latex(r\"$\\displaystyle H_1: P_A - P_B = d$\"))\n",
    "            display(Latex(r\"$\\displaystyle \\hat d = p_2 - p_1$\"))\n",
    "            display(Latex(r\"$\\displaystyle \\hat p = \\frac{x_1 + x_2}{n_1 + n_2}$\"))\n",
    "            display(Latex(r\"$\\displaystyle \\sigma^2 = \\hat p (1 - \\hat p)$\"))\n",
    "            display(Latex(r\"$\\displaystyle SE = \\sqrt{\\sigma^2 \\cdot (\\frac{1}{n_1} + \\frac{1}{n_2})}$\"))\n",
    "            display(Latex(r\"$\\displaystyle Z_{\\gamma} = Z_{1 - \\frac{\\alpha}{2}}$\"))\n",
    "            display(Latex(r\"$\\displaystyle MOE_{\\gamma} = Z_{\\gamma} \\times SE$\"))\n",
    "            display(Latex(r\"$\\displaystyle CI = \\hat d \\pm MOE_{\\gamma}$\"))\n",
    "    elif alternative == \"one-sided\":\n",
    "        z1 = get_z_score(1 - alpha)\n",
    "        if formula is True:\n",
    "            display(Latex(r\"$\\displaystyle H_0: P_A - P_B = 0$\"))\n",
    "            display(Latex(r\"$\\displaystyle H_1: P_A - P_B = d$\"))\n",
    "            display(Latex(r\"$\\displaystyle \\hat d = p_2 - p_1$\"))\n",
    "            display(Latex(r\"$\\displaystyle \\hat p = \\frac{x_1 + x_2}{n_1 + n_2}$\"))\n",
    "            display(Latex(r\"$\\displaystyle \\sigma^2 = \\hat p (1 - \\hat p)$\"))\n",
    "            display(Latex(r\"$\\displaystyle SE = \\sqrt{\\sigma^2 \\cdot (\\frac{1}{n_1} + \\frac{1}{n_2})}$\"))\n",
    "            display(Latex(r\"$\\displaystyle Z_{\\gamma} = Z_{1 - \\alpha}$\"))\n",
    "            display(Latex(r\"$\\displaystyle MOE_{\\gamma} = Z_{\\gamma} \\times SE$\"))\n",
    "            display(Latex(r\"$\\displaystyle CI = \\hat d \\pm MOE_{\\gamma}$\"))\n",
    "    else:\n",
    "        raise ValueError(\"alternative must be one of ['two-sided', 'one-sided']\")\n",
    "\n",
    "    # A is control; B is experiment\n",
    "    p1 = x1 / n1\n",
    "    p2 = x2 / n2\n",
    "    p_hat = (x1 + x2) / (n1 + n2)\n",
    "    SE_pool = np.sqrt(p_hat * (1 - p_hat) * (1/n1 + 1/n2))\n",
    "    # Difference, the CI middle point\n",
    "    d_hat = p2 - p1\n",
    "\n",
    "    # Margin of Error\n",
    "    m = z * SE_pool\n",
    "\n",
    "    # Confidence Interval\n",
    "    CI_left, CI_right = d_hat - m, d_hat + m\n",
    "\n",
    "    # Statistical Significance\n",
    "    if CI_left < 0 < CI_right:\n",
    "        statistical_significance = False\n",
    "    else:\n",
    "        statistical_significance = True\n",
    "\n",
    "    # Pratical Significance\n",
    "    if CI_right < -d_min or CI_left > d_min:\n",
    "        pratical_significance = True\n",
    "    else:\n",
    "        pratical_significance = False\n",
    "    \n",
    "    return np.round(m, round), np.round(CI_left, round), np.round(CI_right, round), np.round(d_hat, round), statistical_significance, pratical_significance"
   ]
  },
  {
   "cell_type": "code",
   "execution_count": null,
   "metadata": {},
   "outputs": [],
   "source": [
    "df_analysis = pd.DataFrame(\n",
    "    columns=['Margin of Error', 'CI lower bound', 'CI upper bound', 'Observed', 'Statistical Significance', 'Practical Significance'], \n",
    "    index=['Gross conversion', 'Net conversion']\n",
    "    )"
   ]
  },
  {
   "cell_type": "code",
   "execution_count": 601,
   "metadata": {},
   "outputs": [],
   "source": [
    "# Hypothesis Testing for Two-Sample Proportions\n",
    "# Gross conversion\n",
    "result = two_sample_prop(n1=analysis_test.loc['clicks', 'A'], n2=analysis_test.loc['clicks', 'B'], x1=analysis_test.loc['enrollments', 'A'], x2=analysis_test.loc['enrollments', 'B'], d_min=0.01, round=4, formula=False)\n",
    "# -0.012 < -0.01 (d_min)\n",
    "\n",
    "df_analysis.loc['Gross conversion', :] = result"
   ]
  },
  {
   "cell_type": "code",
   "execution_count": 602,
   "metadata": {},
   "outputs": [],
   "source": [
    "# Hypothesis Testing for Two-Sample Proportions\n",
    "# Net conversion\n",
    "result = two_sample_prop(n1=analysis_test.loc['clicks', 'A'], n2=analysis_test.loc['clicks', 'B'], x1=analysis_test.loc['payments', 'A'], x2=analysis_test.loc['payments', 'B'], d_min=0.0075, round=4, formula=False)\n",
    "\n",
    "df_analysis.loc['Net conversion', :] = result"
   ]
  },
  {
   "cell_type": "code",
   "execution_count": 603,
   "metadata": {},
   "outputs": [
    {
     "data": {
      "text/html": [
       "<div>\n",
       "<style scoped>\n",
       "    .dataframe tbody tr th:only-of-type {\n",
       "        vertical-align: middle;\n",
       "    }\n",
       "\n",
       "    .dataframe tbody tr th {\n",
       "        vertical-align: top;\n",
       "    }\n",
       "\n",
       "    .dataframe thead th {\n",
       "        text-align: right;\n",
       "    }\n",
       "</style>\n",
       "<table border=\"1\" class=\"dataframe\">\n",
       "  <thead>\n",
       "    <tr style=\"text-align: left;\">\n",
       "      <th></th>\n",
       "      <th>Margin of Error</th>\n",
       "      <th>CI lower bound</th>\n",
       "      <th>CI upper bound</th>\n",
       "      <th>Observed</th>\n",
       "      <th>Statistical Significance</th>\n",
       "      <th>Practical Significance</th>\n",
       "    </tr>\n",
       "  </thead>\n",
       "  <tbody>\n",
       "    <tr>\n",
       "      <th>Gross conversion</th>\n",
       "      <td>0.0086</td>\n",
       "      <td>-0.0291</td>\n",
       "      <td>-0.012</td>\n",
       "      <td>-0.0206</td>\n",
       "      <td>True</td>\n",
       "      <td>True</td>\n",
       "    </tr>\n",
       "    <tr>\n",
       "      <th>Net conversion</th>\n",
       "      <td>0.0067</td>\n",
       "      <td>-0.0116</td>\n",
       "      <td>0.0019</td>\n",
       "      <td>-0.0049</td>\n",
       "      <td>False</td>\n",
       "      <td>False</td>\n",
       "    </tr>\n",
       "  </tbody>\n",
       "</table>\n",
       "</div>"
      ],
      "text/plain": [
       "                 Margin of Error CI lower bound CI upper bound Observed  \\\n",
       "Gross conversion  0.0086         -0.0291         -0.012        -0.0206    \n",
       "Net conversion    0.0067         -0.0116         0.0019        -0.0049    \n",
       "\n",
       "                 Statistical Significance Practical Significance  \n",
       "Gross conversion   True                     True                  \n",
       "Net conversion    False                    False                  "
      ]
     },
     "execution_count": 603,
     "metadata": {},
     "output_type": "execute_result"
    }
   ],
   "source": [
    "df_analysis"
   ]
  },
  {
   "cell_type": "markdown",
   "metadata": {},
   "source": [
    "---\n",
    "\n",
    "## Sign Test\n",
    "\n",
    "Run a  sign test on each of your evaluation metrics using the day-by-day data. Enter each pvalue, and indicate whether each result is statistically significant.\n",
    "\n",
    "> [Binomial test](https://en.wikipedia.org/wiki/Binomial_test)\n",
    "\n",
    "- $\\displaystyle H_0: \\pi = \\pi_0$\n",
    "- $\\displaystyle Pr(X = k) = {n \\choose k} p^k (1 - p)^{n-k}$\n",
    "- one-tailed\n",
    "    - $\\displaystyle p = \\sum^k_{i=0} Pr(X = i) = \\sum^k_{i=0} {n \\choose i} p^k (1 - p)^{n-i}$\n",
    "- two-tailed\n",
    "    - $\\displaystyle p = \\sum_{i \\in \\mathcal{I}} Pr(X = i) = \\sum_{i \\in \\mathcal{I}} {n \\choose i} p^k (1 - p)^{n-i}$\n",
    "\n",
    "\n",
    "\n",
    "|Metric Name|Metric Formula|$d_{min}$|Notation|Python Notation|Reason|\n",
    "|:-:|:-:|:-:|:-:|:-:|:-:|\n",
    "|Gross conversion|$\\frac{C_{enrollment}}{C_{clicks}}$|0.01|Gross conversion|`gross_conversion`|The performance of a model|\n",
    "|Retention|$\\frac{C_{paid}}{C_{enrollment}}$|0.01|Retention|`retention`|The performance of a model|\n",
    "|Net conversion|$\\frac{C_{paid}}{C_{clicks}}$|0.0075|Net conversion|`net_conversion`|The performance of a model|"
   ]
  },
  {
   "cell_type": "code",
   "execution_count": 674,
   "metadata": {},
   "outputs": [],
   "source": [
    "# Define function binom_test returning binomial test p-value or binomial probability\n",
    "def binom_test(x, n, p=0.5, alternative=\"two-sided\", cumulative=True, round=4, formula=False):\n",
    "    \"\"\"\n",
    "    Binomial test\n",
    "\n",
    "    Return\n",
    "        - When cumulative=False, return Probability.\n",
    "        - When cumulative=True, return cumulative Probabiltiy, which is p-value.\n",
    "\n",
    "    Return expected different d, margin of error m, CI left boundary CI_left, CI right boundary CI_right.\n",
    "\n",
    "    x: int\n",
    "        The number of successes, or if x has length 2, it is the number of successes and the number of failures.\n",
    "    n: int\n",
    "        The number of trials. This is ignored if x gives both the number of successes and failures.\n",
    "    p: float, optional\n",
    "        The hypothesized probability of success. 0 <= p <= 1. The default value is p = 0.5.\n",
    "    alternative: {‘two-sided’, ‘greater’, ‘less’}, optional\n",
    "        Indicates the alternative hypothesis. The default value is ‘two-sided’.\n",
    "    cumulative: boolean, optional\n",
    "        Return the cumulative probability. The default value is True.\n",
    "    round: int, optional\n",
    "        Round a number to a given precision in decimal digits. The default value is 4.\n",
    "    formula: boolean\n",
    "        Display formula. The default value is False.\n",
    "\n",
    "    Reference\n",
    "        [Binomial test](https://en.wikipedia.org/wiki/Binomial_test)\n",
    "        [scipy.stats.binom_test](https://docs.scipy.org/doc/scipy/reference/generated/scipy.stats.binom_test.html#scipy.stats.binom_test)\n",
    "        [Tests with Matched Samples](https://sphweb.bumc.bu.edu/otlt/mph-modules/bs/bs704_nonparametric/BS704_Nonparametric5.html)\n",
    "\n",
    "    >>> binom_test(n=14, x=9, p=0.5, alternative='two-sided', cumulative=True, round=4, formula=True)\n",
    "    >>> binom_test(n=14, x=9, p=0.5, alternative='greater', cumulative=True, round=4, formula=True)\n",
    "    >>> binom_test(n=14, x=9, p=0.5, cumulative=False, round=4, formula=True)\n",
    "    \"\"\"\n",
    "\n",
    "    if alternative == \"two-sided\":\n",
    "        if formula is True:\n",
    "            display(Latex(r\"$\\displaystyle H_0: \\pi = \\pi_0$\"))\n",
    "            display(Latex(r\"$\\displaystyle H_1: \\pi \\neq \\pi_0$\"))\n",
    "            display(Latex(r\"$\\displaystyle Pr(X = k) = {n \\choose k} p^k (1 - p)^{n-k}$\"))\n",
    "            display(Latex(r\"$\\displaystyle p = \\sum_{i \\in \\mathcal{I}} Pr(X = i) = \\sum_{i \\in \\mathcal{I}} {n \\choose i} p^k (1 - p)^{n-i}$\"))\n",
    "    elif alternative == \"greater\":\n",
    "        if formula is True:\n",
    "            display(Latex(r\"$\\displaystyle H_0: \\pi = \\pi_0$\"))\n",
    "            display(Latex(r\"$\\displaystyle H_1: \\pi \\neq \\pi_0$\"))\n",
    "            display(Latex(r\"$\\displaystyle Pr(X = k) = {n \\choose k} p^k (1 - p)^{n-k}$\"))\n",
    "            display(Latex(r\"$\\displaystyle p = \\sum^k_{i=0} Pr(X = i) = \\sum^k_{i=0} {n \\choose i} p^k (1 - p)^{n-i}$\"))\n",
    "    elif alternative == \"less\":\n",
    "        if formula is True:\n",
    "            display(Latex(r\"$\\displaystyle H_0: \\pi = \\pi_0$\"))\n",
    "            display(Latex(r\"$\\displaystyle H_1: \\pi \\neq \\pi_0$\"))\n",
    "            display(Latex(r\"$\\displaystyle Pr(X = k) = {n \\choose k} p^k (1 - p)^{n-k}$\"))\n",
    "            display(Latex(r\"$\\displaystyle p = \\sum^k_{i=0} Pr(X = i) = \\sum^k_{i=0} {n \\choose i} p^k (1 - p)^{n-i}$\"))\n",
    "    else:\n",
    "        raise ValueError(\"alternative must be one of ['two-sided', 'greater', 'less']\")\n",
    "\n",
    "    if cumulative is True:\n",
    "        return np.round(stats.binom_test(x, n, p, alternative), round)\n",
    "    else:\n",
    "        return np.round(math.comb(n, k) * p**k * (1-p)**(n-k), round)"
   ]
  },
  {
   "cell_type": "code",
   "execution_count": 691,
   "metadata": {},
   "outputs": [],
   "source": [
    "notnull_control = control[control.Payments.notnull()]\n",
    "notnull_experiment = experiment[experiment.Payments.notnull()]"
   ]
  },
  {
   "cell_type": "code",
   "execution_count": 722,
   "metadata": {},
   "outputs": [
    {
     "data": {
      "text/latex": [
       "$\\displaystyle H_0: \\pi = \\pi_0$"
      ],
      "text/plain": [
       "<IPython.core.display.Latex object>"
      ]
     },
     "metadata": {},
     "output_type": "display_data"
    },
    {
     "data": {
      "text/latex": [
       "$\\displaystyle H_1: \\pi \\neq \\pi_0$"
      ],
      "text/plain": [
       "<IPython.core.display.Latex object>"
      ]
     },
     "metadata": {},
     "output_type": "display_data"
    },
    {
     "data": {
      "text/latex": [
       "$\\displaystyle Pr(X = k) = {n \\choose k} p^k (1 - p)^{n-k}$"
      ],
      "text/plain": [
       "<IPython.core.display.Latex object>"
      ]
     },
     "metadata": {},
     "output_type": "display_data"
    },
    {
     "data": {
      "text/latex": [
       "$\\displaystyle p = \\sum_{i \\in \\mathcal{I}} Pr(X = i) = \\sum_{i \\in \\mathcal{I}} {n \\choose i} p^k (1 - p)^{n-i}$"
      ],
      "text/plain": [
       "<IPython.core.display.Latex object>"
      ]
     },
     "metadata": {},
     "output_type": "display_data"
    },
    {
     "data": {
      "text/plain": [
       "0.0026"
      ]
     },
     "execution_count": 722,
     "metadata": {},
     "output_type": "execute_result"
    }
   ],
   "source": [
    "# The number of successful trails, when the Gross conversion in experiment is greater than it is in the control\n",
    "x = sum(notnull_experiment.Enrollments / notnull_experiment.Clicks > notnull_control.Enrollments / notnull_control.Clicks)\n",
    "n = len(notnull_experiment)\n",
    "\n",
    "binom_test(x=x, n=n, p=0.5, cumulative=True, alternative='two-sided', formula=True)"
   ]
  },
  {
   "cell_type": "code",
   "execution_count": 723,
   "metadata": {},
   "outputs": [
    {
     "data": {
      "text/plain": [
       "0.6776"
      ]
     },
     "execution_count": 723,
     "metadata": {},
     "output_type": "execute_result"
    }
   ],
   "source": [
    "# The number of successful trails, when the Net conversion in experiment is greater than it is in the control\n",
    "x = sum(notnull_experiment.Payments / notnull_experiment.Clicks > notnull_control.Payments / notnull_control.Clicks)\n",
    "n = len(notnull_experiment)\n",
    "\n",
    "binom_test(x=x, n=n, p=0.5, cumulative=True, alternative='two-sided', formula=False)"
   ]
  },
  {
   "cell_type": "markdown",
   "metadata": {},
   "source": [
    "Sign Test\n",
    "\n",
    "A: \n",
    "- The p-value of Gross conversion is 0.0026, which is less than 0.05. Therefore, Gross conversion is statistical significance.\n",
    "- The p-value of Net conversion is 0.6776, which is greater than 0.05. Therefore, Net conversion is not statistical significance."
   ]
  },
  {
   "cell_type": "code",
   "execution_count": null,
   "metadata": {},
   "outputs": [],
   "source": []
  }
 ],
 "metadata": {
  "kernelspec": {
   "display_name": "datascientists",
   "language": "python",
   "name": "datascientists"
  },
  "language_info": {
   "codemirror_mode": {
    "name": "ipython",
    "version": 3
   },
   "file_extension": ".py",
   "mimetype": "text/x-python",
   "name": "python",
   "nbconvert_exporter": "python",
   "pygments_lexer": "ipython3",
   "version": "3.9.4"
  },
  "metadata": {
   "interpreter": {
    "hash": "aee8b7b246df8f9039afb4144a1f6fd8d2ca17a180786b69acc140d282b71a49"
   }
  }
 },
 "nbformat": 4,
 "nbformat_minor": 4
}
